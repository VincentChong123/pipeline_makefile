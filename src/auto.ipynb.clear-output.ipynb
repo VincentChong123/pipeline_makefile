{
 "cells": [
  {
   "cell_type": "code",
   "execution_count": 1,
   "metadata": {
    "execution": {
     "iopub.execute_input": "2024-08-18T11:36:52.710165Z",
     "iopub.status.busy": "2024-08-18T11:36:52.708627Z",
     "iopub.status.idle": "2024-08-18T11:36:54.688068Z",
     "shell.execute_reply": "2024-08-18T11:36:54.685848Z"
    }
   },
   "outputs": [],
   "source": [
    "!pip install -q nbformat nbconvert"
   ]
  },
  {
   "cell_type": "code",
   "execution_count": 2,
   "metadata": {
    "execution": {
     "iopub.execute_input": "2024-08-18T11:36:54.695349Z",
     "iopub.status.busy": "2024-08-18T11:36:54.694782Z",
     "iopub.status.idle": "2024-08-18T11:36:54.702629Z",
     "shell.execute_reply": "2024-08-18T11:36:54.701194Z"
    }
   },
   "outputs": [],
   "source": [
    "LOG_FILE = \"/home/vin/01-prj/tfip_da/public/pipeline_makefile/src/auto.ipynb.log\""
   ]
  },
  {
   "cell_type": "code",
   "execution_count": 3,
   "metadata": {
    "execution": {
     "iopub.execute_input": "2024-08-18T11:36:54.709186Z",
     "iopub.status.busy": "2024-08-18T11:36:54.708519Z",
     "iopub.status.idle": "2024-08-18T11:36:54.723607Z",
     "shell.execute_reply": "2024-08-18T11:36:54.722156Z"
    }
   },
   "outputs": [],
   "source": [
    "from  datetime import datetime\n",
    "start = datetime.now()\n",
    "start"
   ]
  },
  {
   "cell_type": "code",
   "execution_count": 4,
   "metadata": {
    "execution": {
     "iopub.execute_input": "2024-08-18T11:36:54.772473Z",
     "iopub.status.busy": "2024-08-18T11:36:54.771686Z",
     "iopub.status.idle": "2024-08-18T11:36:55.325043Z",
     "shell.execute_reply": "2024-08-18T11:36:55.324457Z"
    }
   },
   "outputs": [],
   "source": [
    "import matplotlib.pyplot as plt\n",
    "\n",
    "# Your plotting code\n",
    "plt.plot([1, 2, 3], [4, 5, 6])\n",
    "plt.title(\"Sample Plot\")\n",
    "plt.savefig('plot.png')  # Save the plot as an image"
   ]
  },
  {
   "cell_type": "code",
   "execution_count": 5,
   "metadata": {
    "execution": {
     "iopub.execute_input": "2024-08-18T11:36:55.333593Z",
     "iopub.status.busy": "2024-08-18T11:36:55.333294Z",
     "iopub.status.idle": "2024-08-18T11:36:57.442828Z",
     "shell.execute_reply": "2024-08-18T11:36:57.441121Z"
    }
   },
   "outputs": [],
   "source": [
    "end = datetime.now()\n",
    "total_exec_time = end - start\n",
    "\n",
    "!echo start $start > $LOG_FILE\n",
    "!echo end $end >> $LOG_FILE\n",
    "!echo total execution time $total_exec_time sec >> $LOG_FILE\n",
    "end"
   ]
  }
 ],
 "metadata": {
  "kernelspec": {
   "display_name": "py310-hive",
   "language": "python",
   "name": "python3"
  },
  "language_info": {
   "codemirror_mode": {
    "name": "ipython",
    "version": 3
   },
   "file_extension": ".py",
   "mimetype": "text/x-python",
   "name": "python",
   "nbconvert_exporter": "python",
   "pygments_lexer": "ipython3",
   "version": "3.10.14"
  }
 },
 "nbformat": 4,
 "nbformat_minor": 2
}
